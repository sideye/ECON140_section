{
 "cells": [
  {
   "cell_type": "code",
   "execution_count": null,
   "metadata": {},
   "outputs": [],
   "source": [
    "import pandas as pd\n",
    "import numpy as np\n",
    "import statsmodels.api as sm"
   ]
  },
  {
   "cell_type": "markdown",
   "metadata": {},
   "source": [
    "## Problem 3"
   ]
  },
  {
   "cell_type": "code",
   "execution_count": null,
   "metadata": {},
   "outputs": [],
   "source": [
    "wages = pd.read_csv(\"wages.csv\")\n",
    "wages = wages[wages['wage'] > 0] # To not have -infinity when taking the log\n",
    "wages.head()"
   ]
  },
  {
   "cell_type": "code",
   "execution_count": null,
   "metadata": {},
   "outputs": [],
   "source": [
    "log_wage = np.log(wages['wage'])\n",
    "wages['log_wage'] = log_wage\n",
    "wages.head()"
   ]
  },
  {
   "cell_type": "code",
   "execution_count": null,
   "metadata": {},
   "outputs": [],
   "source": [
    "# pt a\n",
    "X_3a = sm.add_constant(wages['educ'])\n",
    "y_3a = log_wage\n",
    "model_3a = sm.OLS(y_3a, X_3a)\n",
    "results_3a = model_3a.fit(cov_type = 'HC3')\n",
    "results_3a.summary()"
   ]
  },
  {
   "cell_type": "code",
   "execution_count": null,
   "metadata": {},
   "outputs": [],
   "source": [
    "# pt b\n",
    "female = 1 - wages['male']\n",
    "wages['female'] = female\n",
    "X_3b = sm.add_constant(wages[['male', 'female']])\n",
    "y_3b = log_wage\n",
    "model_3b = sm.OLS(y_3b, X_3b)\n",
    "results_3b = model_3b.fit(cov_type = 'HC3')\n",
    "results_3b.summary()"
   ]
  },
  {
   "cell_type": "code",
   "execution_count": null,
   "metadata": {},
   "outputs": [],
   "source": [
    "## pt c\n",
    "educn = wages['educ'] + np.random.normal(0, 0.1, len(wages['educ']))\n",
    "wages['educn'] = educn\n",
    "X_3c = sm.add_constant(wages[['educ', 'educn']])\n",
    "y_3c = log_wage\n",
    "model_3c = sm.OLS(y_3c, X_3c)\n",
    "results_3c = model_3c.fit(cov_type = 'HC3')\n",
    "results_3c.summary()"
   ]
  },
  {
   "cell_type": "code",
   "execution_count": null,
   "metadata": {},
   "outputs": [],
   "source": [
    "## pt d\n",
    "X_3d = sm.add_constant(wages[['educ', 'male']])\n",
    "y_3d = log_wage\n",
    "model_3d = sm.OLS(y_3d, X_3d)\n",
    "results_3d = model_3d.fit(cov_type = 'HC3')\n",
    "results_3d.summary()"
   ]
  }
 ],
 "metadata": {
  "kernelspec": {
   "display_name": "Python 3",
   "language": "python",
   "name": "python3"
  },
  "language_info": {
   "codemirror_mode": {
    "name": "ipython",
    "version": 3
   },
   "file_extension": ".py",
   "mimetype": "text/x-python",
   "name": "python",
   "nbconvert_exporter": "python",
   "pygments_lexer": "ipython3",
   "version": "3.8.1"
  }
 },
 "nbformat": 4,
 "nbformat_minor": 4
}
